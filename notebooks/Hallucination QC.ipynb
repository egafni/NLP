{
 "cells": [
  {
   "cell_type": "code",
   "execution_count": 136,
   "id": "15faf1e4-e4bb-4a18-b506-e2273e32173e",
   "metadata": {},
   "outputs": [],
   "source": [
    "import openai\n",
    "import pandas as pd\n",
    "import numpy as np\n",
    "import matplotlib.pyplot as plt\n",
    "import seaborn as sns\n",
    "from openai.embeddings_utils import get_embedding, cosine_similarity\n",
    "import itertools as it\n"
   ]
  },
  {
   "cell_type": "code",
   "execution_count": 38,
   "id": "514a99ad-7d8e-4901-896f-cf14d8d13e5b",
   "metadata": {
    "tags": []
   },
   "outputs": [
    {
     "name": "stdout",
     "output_type": "stream",
     "text": [
      "  % Total    % Received % Xferd  Average Speed   Time    Time     Time  Current\n",
      "                                 Dload  Upload   Total   Spent    Left  Speed\n",
      "  0     0    0     0    0     0      0      0 --:--:-- --:--:-- --:--:--     0      \"id\": \"gpt-3.5-turbo-0301\",\n",
      "      \"root\": \"gpt-3.5-turbo-0301\",\n",
      "      \"id\": \"gpt-3.5-turbo\",\n",
      "      \"root\": \"gpt-3.5-turbo\",\n",
      "100 47001  100 47001    0     0  46481      0  0:00:01  0:00:01 --:--:-- 46627\n",
      "      \"id\": \"gpt-4-0314\",\n",
      "      \"root\": \"gpt-4-0314\",\n",
      "      \"id\": \"gpt-4\",\n",
      "      \"root\": \"gpt-4\",\n"
     ]
    }
   ],
   "source": [
    "!curl https://api.openai.com/v1/models -H \"Authorization: Bearer $OPENAI_API_KEY\"|grep gpt"
   ]
  },
  {
   "cell_type": "markdown",
   "id": "a37e76c6-976f-4e0f-8a23-e20d2e2dcf26",
   "metadata": {},
   "source": [
    "# Lib"
   ]
  },
  {
   "cell_type": "code",
   "execution_count": 238,
   "id": "781dbc0e-d456-4b37-8d48-028cefe97fc6",
   "metadata": {
    "tags": []
   },
   "outputs": [],
   "source": [
    "def generate_results(inputs, temperature=1, reps=3):\n",
    "    res = []\n",
    "    for x in inputs:\n",
    "        \n",
    "\n",
    "        for i in range(reps):\n",
    "            response = openai.Completion.create(\n",
    "              model=\"text-davinci-003\",\n",
    "              prompt=x['prompt'],\n",
    "              temperature=temperature,\n",
    "              max_tokens=60,\n",
    "              top_p=1.0,\n",
    "              frequency_penalty=0.0,\n",
    "              presence_penalty=0.0,\n",
    "              logprobs=3,\n",
    "            )\n",
    "            text = response['choices'][0]['text']\n",
    "            res.append(dict(\n",
    "                text = text,\n",
    "                emb=get_embedding(text),\n",
    "                tokens=response['choices'][0]['logprobs']['tokens'],\n",
    "                token_logprobs=np.array(response['choices'][0]['logprobs']['token_logprobs']),\n",
    "                top_logprobs=response['choices'][0]['logprobs']['top_logprobs'],\n",
    "                i=i,\n",
    "                **x['info']\n",
    "            ))    \n",
    "            \n",
    "    df = pd.DataFrame(res)\n",
    "    df['logprob_mean']=[np.mean(x) for x in df['token_logprobs'] ]\n",
    "    df['logprob_std']=[np.std(x) for x in df['token_logprobs'] ]\n",
    "    return df"
   ]
  },
  {
   "cell_type": "markdown",
   "id": "2abfd5b0-76b2-4ca2-9787-99de89582352",
   "metadata": {},
   "source": [
    "# Fake Books"
   ]
  },
  {
   "cell_type": "code",
   "execution_count": 183,
   "id": "08c2ca71-62c2-4930-bd9a-5e40e25be15b",
   "metadata": {},
   "outputs": [],
   "source": [
    "books_fake = [\"Bitcoin is the Future\",\"AI Eats Humans\", \"AI Never Lies\", \"This Book is Fake\"]\n",
    "books_real = ['Dune', 'The Hobbit', \"Reinforcement Learning: An Introduction\", \"Ender's Game\"]\n",
    "\n",
    "inputs = []\n",
    "for book in books_fake + books_real:\n",
    "    is_fake = book in books_fake\n",
    "    prompt = \\\n",
    "f\"\"\"\n",
    "Who wrote the book \"{book}\"?  Give you answer as two words <first_name> <last_name>.  Do not break the structure.\n",
    "\"\"\"                    \n",
    "\n",
    "    inputs.append(dict(\n",
    "                prompt=prompt,\n",
    "                info=dict(is_fake=is_fake,\n",
    "                # i=i,\n",
    "                book=book)))\n",
    "df = generate_results(inputs)"
   ]
  },
  {
   "cell_type": "code",
   "execution_count": 184,
   "id": "c83fc5d9-dae1-4c94-9f2e-c24c7633d283",
   "metadata": {
    "tags": []
   },
   "outputs": [
    {
     "data": {
      "text/html": [
       "<div>\n",
       "<style scoped>\n",
       "    .dataframe tbody tr th:only-of-type {\n",
       "        vertical-align: middle;\n",
       "    }\n",
       "\n",
       "    .dataframe tbody tr th {\n",
       "        vertical-align: top;\n",
       "    }\n",
       "\n",
       "    .dataframe thead th {\n",
       "        text-align: right;\n",
       "    }\n",
       "</style>\n",
       "<table border=\"1\" class=\"dataframe\">\n",
       "  <thead>\n",
       "    <tr style=\"text-align: right;\">\n",
       "      <th></th>\n",
       "      <th>text</th>\n",
       "      <th>emb</th>\n",
       "      <th>token_logprobs</th>\n",
       "      <th>top_logprobs</th>\n",
       "      <th>i</th>\n",
       "      <th>is_fake</th>\n",
       "      <th>book</th>\n",
       "      <th>logprob_mean</th>\n",
       "      <th>logprob_std</th>\n",
       "    </tr>\n",
       "  </thead>\n",
       "  <tbody>\n",
       "    <tr>\n",
       "      <th>0</th>\n",
       "      <td>\\nLiam McKeown</td>\n",
       "      <td>[-0.007347103673964739, 0.0032738391309976578,...</td>\n",
       "      <td>[-6.6294406e-06, -4.859679, -0.5931175, -6.405...</td>\n",
       "      <td>[{'\n",
       "': -6.6294406e-06, ' ': -12.942972, 'Answe...</td>\n",
       "      <td>0</td>\n",
       "      <td>True</td>\n",
       "      <td>Bitcoin is the Future</td>\n",
       "      <td>-2.722004</td>\n",
       "      <td>2.352633</td>\n",
       "    </tr>\n",
       "    <tr>\n",
       "      <th>1</th>\n",
       "      <td>\\nTommy Mustache</td>\n",
       "      <td>[-0.012895956635475159, 0.003422413021326065, ...</td>\n",
       "      <td>[-6.6294406e-06, -4.3484273, -0.100348316, -0....</td>\n",
       "      <td>[{'\n",
       "': -6.6294406e-06, ' ': -12.938951, 'Answe...</td>\n",
       "      <td>1</td>\n",
       "      <td>True</td>\n",
       "      <td>Bitcoin is the Future</td>\n",
       "      <td>-0.986552</td>\n",
       "      <td>1.687278</td>\n",
       "    </tr>\n",
       "    <tr>\n",
       "      <th>2</th>\n",
       "      <td>\\nJered Kenna.</td>\n",
       "      <td>[-0.010069557465612888, 0.005647073965519667, ...</td>\n",
       "      <td>[-6.6294406e-06, -4.604989, -3.0771227, -0.040...</td>\n",
       "      <td>[{'\n",
       "': -6.6294406e-06, ' ': -12.938951, 'Answe...</td>\n",
       "      <td>2</td>\n",
       "      <td>True</td>\n",
       "      <td>Bitcoin is the Future</td>\n",
       "      <td>-1.479506</td>\n",
       "      <td>1.773651</td>\n",
       "    </tr>\n",
       "    <tr>\n",
       "      <th>3</th>\n",
       "      <td>\\nNamrata Kanodia</td>\n",
       "      <td>[-0.006804633419960737, 0.00721684331074357, -...</td>\n",
       "      <td>[-6.5092986e-06, -3.6849813, -3.310473, -1.286...</td>\n",
       "      <td>[{'\n",
       "': -6.5092986e-06, 'Answer': -13.267249, '...</td>\n",
       "      <td>0</td>\n",
       "      <td>True</td>\n",
       "      <td>AI Eats Humans</td>\n",
       "      <td>-1.691167</td>\n",
       "      <td>1.797033</td>\n",
       "    </tr>\n",
       "    <tr>\n",
       "      <th>4</th>\n",
       "      <td>\\nJohn Ollinger</td>\n",
       "      <td>[-0.007003334816545248, 0.0037966447416692972,...</td>\n",
       "      <td>[-6.8669196e-06, -3.3211615, -4.563869, -2.892...</td>\n",
       "      <td>[{'\n",
       "': -6.8669196e-06, 'Answer': -13.186583, '...</td>\n",
       "      <td>1</td>\n",
       "      <td>True</td>\n",
       "      <td>AI Eats Humans</td>\n",
       "      <td>-2.155675</td>\n",
       "      <td>1.843503</td>\n",
       "    </tr>\n",
       "  </tbody>\n",
       "</table>\n",
       "</div>"
      ],
      "text/plain": [
       "                text                                                emb  \\\n",
       "0     \\nLiam McKeown  [-0.007347103673964739, 0.0032738391309976578,...   \n",
       "1   \\nTommy Mustache  [-0.012895956635475159, 0.003422413021326065, ...   \n",
       "2     \\nJered Kenna.  [-0.010069557465612888, 0.005647073965519667, ...   \n",
       "3  \\nNamrata Kanodia  [-0.006804633419960737, 0.00721684331074357, -...   \n",
       "4    \\nJohn Ollinger  [-0.007003334816545248, 0.0037966447416692972,...   \n",
       "\n",
       "                                      token_logprobs  \\\n",
       "0  [-6.6294406e-06, -4.859679, -0.5931175, -6.405...   \n",
       "1  [-6.6294406e-06, -4.3484273, -0.100348316, -0....   \n",
       "2  [-6.6294406e-06, -4.604989, -3.0771227, -0.040...   \n",
       "3  [-6.5092986e-06, -3.6849813, -3.310473, -1.286...   \n",
       "4  [-6.8669196e-06, -3.3211615, -4.563869, -2.892...   \n",
       "\n",
       "                                        top_logprobs  i  is_fake  \\\n",
       "0  [{'\n",
       "': -6.6294406e-06, ' ': -12.942972, 'Answe...  0     True   \n",
       "1  [{'\n",
       "': -6.6294406e-06, ' ': -12.938951, 'Answe...  1     True   \n",
       "2  [{'\n",
       "': -6.6294406e-06, ' ': -12.938951, 'Answe...  2     True   \n",
       "3  [{'\n",
       "': -6.5092986e-06, 'Answer': -13.267249, '...  0     True   \n",
       "4  [{'\n",
       "': -6.8669196e-06, 'Answer': -13.186583, '...  1     True   \n",
       "\n",
       "                    book  logprob_mean  logprob_std  \n",
       "0  Bitcoin is the Future     -2.722004     2.352633  \n",
       "1  Bitcoin is the Future     -0.986552     1.687278  \n",
       "2  Bitcoin is the Future     -1.479506     1.773651  \n",
       "3         AI Eats Humans     -1.691167     1.797033  \n",
       "4         AI Eats Humans     -2.155675     1.843503  "
      ]
     },
     "execution_count": 184,
     "metadata": {},
     "output_type": "execute_result"
    }
   ],
   "source": [
    "df.head()"
   ]
  },
  {
   "cell_type": "code",
   "execution_count": 186,
   "id": "8d3eb6ac-0c26-4f83-af03-640564397e6b",
   "metadata": {
    "tags": []
   },
   "outputs": [
    {
     "data": {
      "text/plain": [
       "<matplotlib.legend.Legend at 0x294766a40>"
      ]
     },
     "execution_count": 186,
     "metadata": {},
     "output_type": "execute_result"
    },
    {
     "data": {
      "image/png": "[encoded data removed]",
      "text/plain": [
       "<Figure size 640x480 with 1 Axes>"
      ]
     },
     "metadata": {},
     "output_type": "display_data"
    }
   ],
   "source": [
    "ax = sns.scatterplot(data=df, x='logprob_mean',y='logprob_std',hue='is_fake', style='book')\n",
    "plt.legend(bbox_to_anchor=(1.05, 1))"
   ]
  },
  {
   "cell_type": "markdown",
   "id": "8bf8197c-d8ae-44d3-801e-2b16252f7eef",
   "metadata": {},
   "source": [
    "# Something more complex"
   ]
  },
  {
   "cell_type": "code",
   "execution_count": 293,
   "id": "261a0f64-aea8-4201-977d-2e31f091eb4e",
   "metadata": {
    "tags": []
   },
   "outputs": [],
   "source": [
    "fake = [\"write an earnings report for Tesla for Q1 2023\", \"\"]\n",
    "real = [\"Convert 50 yards and 3 miles into the metric system\"]\n",
    "\n",
    "inputs = []\n",
    "for i, x in enumerate(fake + real):\n",
    "    is_fake = book in fake\n",
    "    prompt = \\\n",
    "f\"\"\"\n",
    "{x}\n",
    "\"\"\"                    \n",
    "\n",
    "    inputs.append(dict(\n",
    "                prompt=prompt,\n",
    "                info=dict(is_fake=is_fake,\n",
    "                x=x)))\n",
    "df = generate_results(inputs)"
   ]
  },
  {
   "cell_type": "code",
   "execution_count": 294,
   "id": "20a4c589-62ac-441f-918c-212356281ea8",
   "metadata": {
    "tags": []
   },
   "outputs": [
    {
     "data": {
      "text/plain": [
       "'\\nTesla, Inc. Earnings Report for Q1 2023\\n\\nTesla, Inc. recorded strong growth during the first quarter of 2023, as evidenced by strong revenue and net income growth. Revenue for Q1 2023 stood at $33.56 billion, a growth of 32% from'"
      ]
     },
     "execution_count": 294,
     "metadata": {},
     "output_type": "execute_result"
    }
   ],
   "source": [
    "df.iloc[2]['text']"
   ]
  },
  {
   "cell_type": "code",
   "execution_count": 295,
   "id": "0c5a592c-b0cc-4fc1-ab16-092bcfc85d64",
   "metadata": {
    "tags": []
   },
   "outputs": [
    {
     "data": {
      "text/html": [
       "<div>\n",
       "<style scoped>\n",
       "    .dataframe tbody tr th:only-of-type {\n",
       "        vertical-align: middle;\n",
       "    }\n",
       "\n",
       "    .dataframe tbody tr th {\n",
       "        vertical-align: top;\n",
       "    }\n",
       "\n",
       "    .dataframe thead th {\n",
       "        text-align: right;\n",
       "    }\n",
       "</style>\n",
       "<table border=\"1\" class=\"dataframe\">\n",
       "  <thead>\n",
       "    <tr style=\"text-align: right;\">\n",
       "      <th></th>\n",
       "      <th>text</th>\n",
       "      <th>emb</th>\n",
       "      <th>tokens</th>\n",
       "      <th>token_logprobs</th>\n",
       "      <th>top_logprobs</th>\n",
       "      <th>i</th>\n",
       "      <th>is_fake</th>\n",
       "      <th>x</th>\n",
       "      <th>logprob_mean</th>\n",
       "      <th>logprob_std</th>\n",
       "    </tr>\n",
       "  </thead>\n",
       "  <tbody>\n",
       "    <tr>\n",
       "      <th>0</th>\n",
       "      <td>\\nTesla Inc. is pleased to report its financia...</td>\n",
       "      <td>[-0.011077984236180782, -0.0001607155427336692...</td>\n",
       "      <td>[\\n, Tesla,  Inc, .,  is,  pleased,  to,  repo...</td>\n",
       "      <td>[-0.0021219274, -0.049162235, -0.66441387, -0....</td>\n",
       "      <td>[{'\n",
       "': -0.0021219274, 'Tesla': -6.5009108, 'Th...</td>\n",
       "      <td>0</td>\n",
       "      <td>False</td>\n",
       "      <td>write an earnings report for Tesla for Q1 2023</td>\n",
       "      <td>-0.722796</td>\n",
       "      <td>1.096084</td>\n",
       "    </tr>\n",
       "    <tr>\n",
       "      <th>1</th>\n",
       "      <td>\\nTesla first quarter 2023 earnings report \\n\\...</td>\n",
       "      <td>[-0.013070257380604744, -0.00292210909537971, ...</td>\n",
       "      <td>[\\n, Tesla,  first,  quarter,  20, 23,  earnin...</td>\n",
       "      <td>[-0.0021059797, -0.049530823, -6.217336, -0.02...</td>\n",
       "      <td>[{'\n",
       "': -0.0021059797, 'Tesla': -6.517946, 'The...</td>\n",
       "      <td>1</td>\n",
       "      <td>False</td>\n",
       "      <td>write an earnings report for Tesla for Q1 2023</td>\n",
       "      <td>-1.293734</td>\n",
       "      <td>1.806188</td>\n",
       "    </tr>\n",
       "    <tr>\n",
       "      <th>2</th>\n",
       "      <td>\\nTesla, Inc. Earnings Report for Q1 2023\\n\\nT...</td>\n",
       "      <td>[-0.006798746529966593, 0.0013413571286946535,...</td>\n",
       "      <td>[\\n, Tesla, ,,  Inc, .,  Earn, ings,  Report, ...</td>\n",
       "      <td>[-0.0020268373, -0.049567025, -2.2920907, -0.0...</td>\n",
       "      <td>[{'\n",
       "': -0.0020268373, 'Tesla': -6.5514965, 'Th...</td>\n",
       "      <td>2</td>\n",
       "      <td>False</td>\n",
       "      <td>write an earnings report for Tesla for Q1 2023</td>\n",
       "      <td>-1.114026</td>\n",
       "      <td>1.631643</td>\n",
       "    </tr>\n",
       "  </tbody>\n",
       "</table>\n",
       "</div>"
      ],
      "text/plain": [
       "                                                text  \\\n",
       "0  \\nTesla Inc. is pleased to report its financia...   \n",
       "1  \\nTesla first quarter 2023 earnings report \\n\\...   \n",
       "2  \\nTesla, Inc. Earnings Report for Q1 2023\\n\\nT...   \n",
       "\n",
       "                                                 emb  \\\n",
       "0  [-0.011077984236180782, -0.0001607155427336692...   \n",
       "1  [-0.013070257380604744, -0.00292210909537971, ...   \n",
       "2  [-0.006798746529966593, 0.0013413571286946535,...   \n",
       "\n",
       "                                              tokens  \\\n",
       "0  [\\n, Tesla,  Inc, .,  is,  pleased,  to,  repo...   \n",
       "1  [\\n, Tesla,  first,  quarter,  20, 23,  earnin...   \n",
       "2  [\\n, Tesla, ,,  Inc, .,  Earn, ings,  Report, ...   \n",
       "\n",
       "                                      token_logprobs  \\\n",
       "0  [-0.0021219274, -0.049162235, -0.66441387, -0....   \n",
       "1  [-0.0021059797, -0.049530823, -6.217336, -0.02...   \n",
       "2  [-0.0020268373, -0.049567025, -2.2920907, -0.0...   \n",
       "\n",
       "                                        top_logprobs  i  is_fake  \\\n",
       "0  [{'\n",
       "': -0.0021219274, 'Tesla': -6.5009108, 'Th...  0    False   \n",
       "1  [{'\n",
       "': -0.0021059797, 'Tesla': -6.517946, 'The...  1    False   \n",
       "2  [{'\n",
       "': -0.0020268373, 'Tesla': -6.5514965, 'Th...  2    False   \n",
       "\n",
       "                                                x  logprob_mean  logprob_std  \n",
       "0  write an earnings report for Tesla for Q1 2023     -0.722796     1.096084  \n",
       "1  write an earnings report for Tesla for Q1 2023     -1.293734     1.806188  \n",
       "2  write an earnings report for Tesla for Q1 2023     -1.114026     1.631643  "
      ]
     },
     "execution_count": 295,
     "metadata": {},
     "output_type": "execute_result"
    }
   ],
   "source": [
    "df.head(3)"
   ]
  },
  {
   "cell_type": "code",
   "execution_count": 296,
   "id": "52e94dec-fc7a-4e00-912c-5882d04d1af3",
   "metadata": {
    "tags": []
   },
   "outputs": [
    {
     "data": {
      "text/html": [
       "<div>\n",
       "<style scoped>\n",
       "    .dataframe tbody tr th:only-of-type {\n",
       "        vertical-align: middle;\n",
       "    }\n",
       "\n",
       "    .dataframe tbody tr th {\n",
       "        vertical-align: top;\n",
       "    }\n",
       "\n",
       "    .dataframe thead th {\n",
       "        text-align: right;\n",
       "    }\n",
       "</style>\n",
       "<table border=\"1\" class=\"dataframe\">\n",
       "  <thead>\n",
       "    <tr style=\"text-align: right;\">\n",
       "      <th></th>\n",
       "      <th>mean</th>\n",
       "    </tr>\n",
       "    <tr>\n",
       "      <th>x</th>\n",
       "      <th></th>\n",
       "    </tr>\n",
       "  </thead>\n",
       "  <tbody>\n",
       "    <tr>\n",
       "      <th>Convert 50 yards and 3 miles into the metric system</th>\n",
       "      <td>0.986732</td>\n",
       "    </tr>\n",
       "    <tr>\n",
       "      <th>write an earnings report for Tesla for Q1 2023</th>\n",
       "      <td>0.925545</td>\n",
       "    </tr>\n",
       "  </tbody>\n",
       "</table>\n",
       "</div>"
      ],
      "text/plain": [
       "                                                        mean\n",
       "x                                                           \n",
       "Convert 50 yards and 3 miles into the metric sy...  0.986732\n",
       "write an earnings report for Tesla for Q1 2023      0.925545"
      ]
     },
     "execution_count": 296,
     "metadata": {},
     "output_type": "execute_result"
    }
   ],
   "source": [
    "def metrics(t):\n",
    "    cos = [cosine_similarity(x, y) for x,y in it.product(t['emb'], t['emb']) if x!=y]\n",
    "    return pd.Series(dict(mean=np.mean(cos)))\n",
    "    \n",
    "df.groupby('x').apply(metrics)"
   ]
  },
  {
   "cell_type": "code",
   "execution_count": 297,
   "id": "cdfd0060-f935-4b34-9fce-8e0757ae9a3b",
   "metadata": {
    "tags": []
   },
   "outputs": [],
   "source": [
    "df['n_unlikely_tokens'] = [ (x<-2).sum() / len(x<-2) for x in df['token_logprobs']]"
   ]
  },
  {
   "cell_type": "code",
   "execution_count": 298,
   "id": "2ee9ecea-7c5a-40c5-a962-3bc2c45afb14",
   "metadata": {
    "tags": []
   },
   "outputs": [
    {
     "name": "stderr",
     "output_type": "stream",
     "text": [
      "/var/folders/nw/lktt921x1wg_wt5tfy5q9k2c0000gn/T/ipykernel_24391/234013619.py:2: DeprecationWarning: Importing display from IPython.core.display is deprecated since IPython 7.14, please import from IPython display\n",
      "  from IPython.core.display import display, HTML\n"
     ]
    }
   ],
   "source": [
    "import math\n",
    "from IPython.core.display import display, HTML\n",
    "import matplotlib.pyplot as plt\n",
    "import matplotlib.colors as mcolors\n",
    "import matplotlib.cm as mcm\n",
    "\n",
    "def create_color_map(min_val, max_val, color_map=\"viridis\"):\n",
    "    norm = mcolors.Normalize(vmin=min_val, vmax=max_val, clip=True)\n",
    "    mapper = mcm.ScalarMappable(norm=norm, cmap=mcm.get_cmap(color_map))\n",
    "    return mapper.to_rgba\n",
    "\n",
    "def visualize_token_logprobs(token_logprobs, color_map=\"viridis\"):\n",
    "    min_logprob = min(token_logprobs, key=lambda x: x[1])[1]\n",
    "    max_logprob = max(token_logprobs, key=lambda x: x[1])[1]\n",
    "    color_mapper = create_color_map(min_logprob, max_logprob, color_map)\n",
    "\n",
    "    html = \"<p>\"\n",
    "    for token, logprob in token_logprobs:\n",
    "        color = mcolors.rgb2hex(color_mapper(logprob)[:3])\n",
    "        html += f'<span style=\"color: {color};\">{token}</span> '\n",
    "    html += \"</p>\"\n",
    "\n",
    "    display(HTML(html))"
   ]
  },
  {
   "cell_type": "code",
   "execution_count": 299,
   "id": "118f299e-6247-4be8-b816-ed1b91c404d2",
   "metadata": {
    "tags": []
   },
   "outputs": [
    {
     "name": "stderr",
     "output_type": "stream",
     "text": [
      "/var/folders/nw/lktt921x1wg_wt5tfy5q9k2c0000gn/T/ipykernel_24391/234013619.py:9: MatplotlibDeprecationWarning: The get_cmap function was deprecated in Matplotlib 3.7 and will be removed two minor releases later. Use ``matplotlib.colormaps[name]`` or ``matplotlib.colormaps.get_cmap(obj)`` instead.\n",
      "  mapper = mcm.ScalarMappable(norm=norm, cmap=mcm.get_cmap(color_map))\n"
     ]
    },
    {
     "data": {
      "text/html": [
       "<p><span style=\"color: #fde725;\">\n",
       "</span> <span style=\"color: #f8e621;\">Tesla</span> <span style=\"color: #a5db36;\"> Inc</span> <span style=\"color: #f8e621;\">.</span> <span style=\"color: #a0da39;\"> is</span> <span style=\"color: #f1e51d;\"> pleased</span> <span style=\"color: #fde725;\"> to</span> <span style=\"color: #90d743;\"> report</span> <span style=\"color: #95d840;\"> its</span> <span style=\"color: #98d83e;\"> financial</span> <span style=\"color: #dfe318;\"> results</span> <span style=\"color: #fde725;\"> for</span> <span style=\"color: #f4e61e;\"> the</span> <span style=\"color: #fbe723;\"> first</span> <span style=\"color: #fde725;\"> quarter</span> <span style=\"color: #f4e61e;\"> of</span> <span style=\"color: #fbe723;\"> 20</span> <span style=\"color: #fde725;\">23</span> <span style=\"color: #f6e620;\">.</span> <span style=\"color: #8bd646;\">\n",
       "</span> <span style=\"color: #fde725;\">\n",
       "</span> <span style=\"color: #c8e020;\">Re</span> <span style=\"color: #dde318;\">venue</span> <span style=\"color: #dae319;\"> for</span> <span style=\"color: #440154;\"> this</span> <span style=\"color: #e2e418;\"> quarter</span> <span style=\"color: #5ac864;\"> totaled</span> <span style=\"color: #fbe723;\"> $</span> <span style=\"color: #46085c;\">29</span> <span style=\"color: #f4e61e;\">.</span> <span style=\"color: #1f9e89;\">3</span> <span style=\"color: #fde725;\"> billion</span> <span style=\"color: #fde725;\">,</span> <span style=\"color: #4cc26c;\"> up</span> <span style=\"color: #453781;\"> 34</span> <span style=\"color: #dde318;\">%</span> <span style=\"color: #67cc5c;\"> year</span> <span style=\"color: #e7e419;\">-</span> <span style=\"color: #fbe723;\">over</span> <span style=\"color: #fde725;\">-</span> <span style=\"color: #fde725;\">year</span> <span style=\"color: #2db27d;\">,</span> <span style=\"color: #c5e021;\"> driven</span> <span style=\"color: #cae11f;\"> by</span> <span style=\"color: #c0df25;\"> strong</span> <span style=\"color: #3bbb75;\"> sales</span> <span style=\"color: #f1e51d;\"> of</span> <span style=\"color: #3aba76;\"> the</span> <span style=\"color: #20928c;\"> company</span> <span style=\"color: #bade28;\">'s</span> <span style=\"color: #4ac16d;\"> Model</span> <span style=\"color: #d5e21a;\"> 3</span> <span style=\"color: #65cb5e;\">,</span> <span style=\"color: #f1e51d;\"> Model</span> <span style=\"color: #90d743;\"> Y</span> <span style=\"color: #1e9d89;\"> and</span> <span style=\"color: #c5e021;\"> Model</span> <span style=\"color: #e5e419;\"> S</span> <span style=\"color: #e7e419;\"> vehicles</span> <span style=\"color: #f1e51d;\">.</span> </p>"
      ],
      "text/plain": [
       "<IPython.core.display.HTML object>"
      ]
     },
     "metadata": {},
     "output_type": "display_data"
    },
    {
     "data": {
      "text/html": [
       "<p><span style=\"color: #fde725;\">\n",
       "</span> <span style=\"color: #fbe723;\">Tesla</span> <span style=\"color: #414287;\"> first</span> <span style=\"color: #fde725;\"> quarter</span> <span style=\"color: #a5db36;\"> 20</span> <span style=\"color: #fde725;\">23</span> <span style=\"color: #efe51c;\"> earnings</span> <span style=\"color: #fde725;\"> report</span> <span style=\"color: #6ece58;\"> </span> <span style=\"color: #fde725;\">\n",
       "</span> <span style=\"color: #fde725;\">\n",
       "</span> <span style=\"color: #f1e51d;\">Tesla</span> <span style=\"color: #25ac82;\"> has</span> <span style=\"color: #238a8d;\"> experienced</span> <span style=\"color: #c5e021;\"> a</span> <span style=\"color: #33628d;\"> quarter</span> <span style=\"color: #fbe723;\"> of</span> <span style=\"color: #2b758e;\"> extraordinary</span> <span style=\"color: #dde318;\"> growth</span> <span style=\"color: #73d056;\">,</span> <span style=\"color: #b2dd2d;\"> with</span> <span style=\"color: #46c06f;\"> a</span> <span style=\"color: #6ccd5a;\"> record</span> <span style=\"color: #9dd93b;\">-</span> <span style=\"color: #f6e620;\">breaking</span> <span style=\"color: #56c667;\"> $</span> <span style=\"color: #2ab07f;\">5</span> <span style=\"color: #efe51c;\">.</span> <span style=\"color: #25ab82;\">1</span> <span style=\"color: #fbe723;\"> billion</span> <span style=\"color: #fbe723;\"> in</span> <span style=\"color: #25838e;\"> sales</span> <span style=\"color: #addc30;\"> and</span> <span style=\"color: #b8de29;\"> a</span> <span style=\"color: #98d83e;\"> net</span> <span style=\"color: #f1e51d;\"> income</span> <span style=\"color: #fde725;\"> of</span> <span style=\"color: #fbe723;\"> $</span> <span style=\"color: #32648e;\">900</span> <span style=\"color: #fde725;\"> million</span> <span style=\"color: #37b878;\"> for</span> <span style=\"color: #eae51a;\"> the</span> <span style=\"color: #2a768e;\"> three</span> <span style=\"color: #dfe318;\"> months</span> <span style=\"color: #dde318;\"> ending</span> <span style=\"color: #f6e620;\"> March</span> <span style=\"color: #fde725;\"> 31</span> <span style=\"color: #eae51a;\">,</span> <span style=\"color: #fde725;\"> 20</span> <span style=\"color: #fde725;\">23</span> <span style=\"color: #fde725;\">.</span> <span style=\"color: #a0da39;\"> This</span> <span style=\"color: #440154;\"> follows</span> <span style=\"color: #dde318;\"> a</span> <span style=\"color: #b0dd2f;\"> strong</span> <span style=\"color: #a2da37;\"> fourth</span> <span style=\"color: #fde725;\"> quarter</span> <span style=\"color: #dfe318;\"> of</span> <span style=\"color: #dfe318;\"> 2022</span> <span style=\"color: #d0e11c;\">,</span> </p>"
      ],
      "text/plain": [
       "<IPython.core.display.HTML object>"
      ]
     },
     "metadata": {},
     "output_type": "display_data"
    },
    {
     "data": {
      "text/html": [
       "<p><span style=\"color: #fde725;\">\n",
       "</span> <span style=\"color: #f8e621;\">Tesla</span> <span style=\"color: #27ad81;\">,</span> <span style=\"color: #fde725;\"> Inc</span> <span style=\"color: #fbe723;\">.</span> <span style=\"color: #1fa187;\"> Earn</span> <span style=\"color: #fde725;\">ings</span> <span style=\"color: #fde725;\"> Report</span> <span style=\"color: #bddf26;\"> for</span> <span style=\"color: #f1e51d;\"> Q</span> <span style=\"color: #fde725;\">1</span> <span style=\"color: #fbe723;\"> 20</span> <span style=\"color: #fde725;\">23</span> <span style=\"color: #f1e51d;\">\n",
       "</span> <span style=\"color: #fde725;\">\n",
       "</span> <span style=\"color: #dde318;\">Tesla</span> <span style=\"color: #efe51c;\">,</span> <span style=\"color: #fde725;\"> Inc</span> <span style=\"color: #fbe723;\">.</span> <span style=\"color: #440154;\"> recorded</span> <span style=\"color: #77d153;\"> strong</span> <span style=\"color: #20a486;\"> growth</span> <span style=\"color: #25ac82;\"> during</span> <span style=\"color: #ece51b;\"> the</span> <span style=\"color: #fde725;\"> first</span> <span style=\"color: #fde725;\"> quarter</span> <span style=\"color: #fde725;\"> of</span> <span style=\"color: #fde725;\"> 20</span> <span style=\"color: #fde725;\">23</span> <span style=\"color: #d0e11c;\">,</span> <span style=\"color: #228c8d;\"> as</span> <span style=\"color: #2c718e;\"> evidenced</span> <span style=\"color: #fde725;\"> by</span> <span style=\"color: #2a788e;\"> strong</span> <span style=\"color: #65cb5e;\"> revenue</span> <span style=\"color: #cae11f;\"> and</span> <span style=\"color: #48c16e;\"> net</span> <span style=\"color: #fbe723;\"> income</span> <span style=\"color: #4ec36b;\"> growth</span> <span style=\"color: #e7e419;\">.</span> <span style=\"color: #60ca60;\"> Revenue</span> <span style=\"color: #d2e21b;\"> for</span> <span style=\"color: #50c46a;\"> Q</span> <span style=\"color: #fde725;\">1</span> <span style=\"color: #f1e51d;\"> 20</span> <span style=\"color: #fde725;\">23</span> <span style=\"color: #48186a;\"> stood</span> <span style=\"color: #fde725;\"> at</span> <span style=\"color: #fbe723;\"> $</span> <span style=\"color: #443983;\">33</span> <span style=\"color: #f4e61e;\">.</span> <span style=\"color: #48186a;\">56</span> <span style=\"color: #fbe723;\"> billion</span> <span style=\"color: #fde725;\">,</span> <span style=\"color: #7ad151;\"> a</span> <span style=\"color: #2c718e;\"> growth</span> <span style=\"color: #fbe723;\"> of</span> <span style=\"color: #23888e;\"> 32</span> <span style=\"color: #81d34d;\">%</span> <span style=\"color: #46c06f;\"> from</span> </p>"
      ],
      "text/plain": [
       "<IPython.core.display.HTML object>"
      ]
     },
     "metadata": {},
     "output_type": "display_data"
    },
    {
     "data": {
      "text/html": [
       "<p><span style=\"color: #fde725;\">\n",
       "</span> <span style=\"color: #f8e621;\">50</span> <span style=\"color: #f8e621;\"> yards</span> <span style=\"color: #22a884;\"> =</span> <span style=\"color: #fde725;\"> 45</span> <span style=\"color: #fde725;\">.</span> <span style=\"color: #cae11f;\">72</span> <span style=\"color: #440154;\"> meters</span> <span style=\"color: #4ec36b;\">\n",
       "</span> <span style=\"color: #a2da37;\">3</span> <span style=\"color: #fde725;\"> miles</span> <span style=\"color: #fde725;\"> =</span> <span style=\"color: #e7e419;\"> 4</span> <span style=\"color: #fbe723;\">.</span> <span style=\"color: #1f978b;\">82</span> <span style=\"color: #c0df25;\"> kilometers</span> </p>"
      ],
      "text/plain": [
       "<IPython.core.display.HTML object>"
      ]
     },
     "metadata": {},
     "output_type": "display_data"
    },
    {
     "data": {
      "text/html": [
       "<p><span style=\"color: #fde725;\">\n",
       "</span> <span style=\"color: #f6e620;\">50</span> <span style=\"color: #f6e620;\"> yards</span> <span style=\"color: #1f948c;\"> =</span> <span style=\"color: #fde725;\"> 45</span> <span style=\"color: #fde725;\">.</span> <span style=\"color: #bddf26;\">72</span> <span style=\"color: #440154;\"> metres</span> <span style=\"color: #31b57b;\">\n",
       "</span> <span style=\"color: #aadc32;\">3</span> <span style=\"color: #fbe723;\"> miles</span> <span style=\"color: #fde725;\"> =</span> <span style=\"color: #eae51a;\"> 4</span> <span style=\"color: #fbe723;\">.</span> <span style=\"color: #218f8d;\">82</span> <span style=\"color: #cde11d;\"> kilometres</span> </p>"
      ],
      "text/plain": [
       "<IPython.core.display.HTML object>"
      ]
     },
     "metadata": {},
     "output_type": "display_data"
    },
    {
     "data": {
      "text/html": [
       "<p><span style=\"color: #fde725;\">\n",
       "</span> <span style=\"color: #fde725;\">50</span> <span style=\"color: #440154;\"> Yards</span> <span style=\"color: #ece51b;\"> =</span> <span style=\"color: #fde725;\"> 45</span> <span style=\"color: #fde725;\">.</span> <span style=\"color: #f8e621;\">72</span> <span style=\"color: #f6e620;\"> Met</span> <span style=\"color: #29af7f;\">res</span> <span style=\"color: #dae319;\">\n",
       "</span> <span style=\"color: #dde318;\">3</span> <span style=\"color: #fde725;\"> Miles</span> <span style=\"color: #fde725;\"> =</span> <span style=\"color: #fde725;\"> 4</span> <span style=\"color: #fde725;\">.</span> <span style=\"color: #c8e020;\">82</span> <span style=\"color: #f8e621;\"> Kil</span> <span style=\"color: #fde725;\">omet</span> <span style=\"color: #fde725;\">res</span> </p>"
      ],
      "text/plain": [
       "<IPython.core.display.HTML object>"
      ]
     },
     "metadata": {},
     "output_type": "display_data"
    }
   ],
   "source": [
    "for _,r in df.iterrows():\n",
    "    number_probs = []\n",
    "    visualize_token_logprobs(list(zip(r['tokens'], r['token_logprobs'])))\n"
   ]
  },
  {
   "cell_type": "code",
   "execution_count": 303,
   "id": "92e6e83e-b26c-4a0d-a882-5fd357dfb253",
   "metadata": {
    "tags": []
   },
   "outputs": [
    {
     "data": {
      "text/plain": [
       "[<OpenAIObject at 0x2a0f2f920> JSON: {\n",
       "   \"\\n\": -0.0009269955,\n",
       "   \"50\": -7.394748,\n",
       "   \"Con\": -9.468971\n",
       " },\n",
       " <OpenAIObject at 0x2a0f2f970> JSON: {\n",
       "   \" 50\": -7.4978666,\n",
       "   \"50\": -0.008397834,\n",
       "   \"In\": -4.9603305\n",
       " },\n",
       " <OpenAIObject at 0x2a0664540> JSON: {\n",
       "   \" Yards\": -4.958248,\n",
       "   \" y\": -7.3375735,\n",
       "   \" yards\": -0.00819776\n",
       " },\n",
       " <OpenAIObject at 0x2a10585e0> JSON: {\n",
       "   \" =\": -0.14939517,\n",
       "   \" is\": -2.794075,\n",
       "   \":\": -3.0428622\n",
       " },\n",
       " <OpenAIObject at 0x2a1058680> JSON: {\n",
       "   \" \": -5.9547014,\n",
       "   \" 45\": -0.0031420668,\n",
       "   \"45\": -9.079255\n",
       " },\n",
       " <OpenAIObject at 0x2a1058720> JSON: {\n",
       "   \" Met\": -9.157677,\n",
       "   \",\": -9.134349,\n",
       "   \".\": -0.0002949793\n",
       " },\n",
       " <OpenAIObject at 0x2a10587c0> JSON: {\n",
       "   \"7\": -3.0932207,\n",
       "   \"72\": -0.054099232,\n",
       "   \"73\": -5.5062947\n",
       " },\n",
       " <OpenAIObject at 0x2a1058860> JSON: {\n",
       "   \" Met\": -0.074211255,\n",
       "   \" meters\": -3.6860406,\n",
       "   \" metres\": -3.22756\n",
       " },\n",
       " <OpenAIObject at 0x2a1058900> JSON: {\n",
       "   \"ers\": -0.17534095,\n",
       "   \"re\": -9.557345,\n",
       "   \"res\": -1.8280699\n",
       " },\n",
       " <OpenAIObject at 0x2a10589a0> JSON: {\n",
       "   \"\\n\": -0.28231713,\n",
       "   \" \": -1.5605421,\n",
       "   \"  \": -3.9105594\n",
       " },\n",
       " <OpenAIObject at 0x2a1058a40> JSON: {\n",
       "   \"\\n\": -1.4931164,\n",
       "   \" 3\": -7.9510255,\n",
       "   \"3\": -0.25536922\n",
       " },\n",
       " <OpenAIObject at 0x2a1058ae0> JSON: {\n",
       "   \" Mile\": -9.319171,\n",
       "   \" Miles\": -0.0026524249,\n",
       "   \" miles\": -5.987447\n",
       " },\n",
       " <OpenAIObject at 0x2a1058b80> JSON: {\n",
       "   \" \": -7.665341,\n",
       "   \" =\": -0.001283586,\n",
       "   \"=\": -7.600574\n",
       " },\n",
       " <OpenAIObject at 0x2a1058c20> JSON: {\n",
       "   \" \": -7.584007,\n",
       "   \" 4\": -0.012197643,\n",
       "   \" 48\": -4.4930573\n",
       " },\n",
       " <OpenAIObject at 0x2a1058cc0> JSON: {\n",
       "   \" 8\": -8.979526,\n",
       "   \",\": -6.1784797,\n",
       "   \".\": -0.0022085994\n",
       " },\n",
       " <OpenAIObject at 0x2a1058d60> JSON: {\n",
       "   \"8\": -1.9500502,\n",
       "   \"82\": -0.41396517,\n",
       "   \"83\": -1.6284388\n",
       " },\n",
       " <OpenAIObject at 0x2a1058e00> JSON: {\n",
       "   \" Kil\": -0.052146193,\n",
       "   \" kilometres\": -4.193217,\n",
       "   \" km\": -3.910983\n",
       " },\n",
       " <OpenAIObject at 0x2a1058ea0> JSON: {\n",
       "   \"om\": -9.256909,\n",
       "   \"omet\": -0.0044469964,\n",
       "   \"ometers\": -5.4525876\n",
       " },\n",
       " <OpenAIObject at 0x2a1058f40> JSON: {\n",
       "   \"es\": -9.7844095,\n",
       "   \"re\": -10.109292,\n",
       "   \"res\": -0.00014265596\n",
       " }]"
      ]
     },
     "execution_count": 303,
     "metadata": {},
     "output_type": "execute_result"
    }
   ],
   "source": [
    "r['top_logprobs']"
   ]
  },
  {
   "cell_type": "code",
   "execution_count": 291,
   "id": "141f2ebb-07f3-4554-8a54-1d57e2faa653",
   "metadata": {
    "tags": []
   },
   "outputs": [
    {
     "name": "stdout",
     "output_type": "stream",
     "text": [
      "\n",
      "[-0.002] Q[-5e+00] 1[-4e-05]  20[-0.04] 23[-1e-05]  Earn[-0.3] ings[-1e-06]  Report[-0.02] \n",
      "[-0.7] \n",
      "[-0.01] Tesla[-0.2]  has[-3e+00]  reported[-1e+00]  its[-3e+00]  Q[-1e+00] 1[-4e-05]  20[-0.2] 23[-6e-06]  financial[-0.9]  results[-0.2] ,[-0.4]  and[-1e+00]  is[-5e+00]  pleased[-0.3]  to[-0.01]  report[-1e+00]  strong[-1e+00]  growth[-1e+00]  and[-2e+00]  positive[-3e+00]  results[-2e+00] .[-0.5] \n",
      "[-0.5] \n",
      "[-0.0002] For[-4e+00]  the[-0.1]  first[-1e+00]  quarter[-0.01]  of[-0.1]  20[-0.05] 23[-6e-06] ,[-0.003]  Tesla[-0.2]  reported[-0.5]  net[-4e+00]  revenues[-1e+00]  of[-0.005]  $[-0.01] 34[-5e+00] .[-0.1] 28[-7e+00]  billion[-0.01] ,[-0.03]  up[-1e+00]  36[-4e+00] .[-0.9] 2[-2e+00] %[-0.06]  year[-1e+00] -[-0.2] write an earnings report for Tesla for Q1 2023\n",
      "[-3.690939e-05, -0.04445833, -1.2828294e-05, -4.275062e-05, -0.24046524, -6.031526e-06, -0.04678236, -6.2699432e-06, -5.248309, -6.9661226, -4.2476068, -1.8480843]\n",
      "\n",
      "[-0.002] Tesla[-0.05]  Inc[-0.7] .[-0.05]  is[-0.7]  pleased[-0.1]  to[-6e-05]  report[-0.8]  our[-2e+00]  performance[-4e+00]  for[-0.2]  the[-0.2]  first[-0.03]  quarter[-0.003]  of[-0.03]  20[-0.02] 23[-4e-06] .[-0.05]  We[-2e+00]  achieved[-1e+00]  a[-2e+00]  record[-1e+00]  quarter[-2e+00] ,[-2e+00]  with[-0.5]  record[-4e+00]  revenue[-0.7]  of[-0.2]  $[-0.009] 14[-3e+00] .[-0.1] 234[-1e+01]  billion[-0.02] ,[-0.3]  up[-0.9]  65[-6e+00] %[-0.3]  year[-0.6]  over[-2e+00]  year[-0.0002] .[-0.3]  This[-1e+00]  impressive[-4e+00]  growth[-0.5]  was[-0.1]  driven[-0.2]  by[-0.2]  strong[-0.8]  demand[-0.5]  for[-0.08]  our[-0.1]  vehicles[-1e+00] ,[-0.5]  as[-2e+00]  well[-0.2]  as[-0.0002]  our[-2e+00]  record[-7e+00]  deliveries[-0.8]  of[-0.3] write an earnings report for Tesla for Q1 2023\n",
      "[-0.017783443, -3.529076e-06, -2.795863, -10.834355, -5.9002705]\n",
      "\n",
      "[-0.002] Tesla[-0.05]  Inc[-0.7] .[-0.05]  is[-0.7]  pleased[-0.1]  to[-6e-05]  report[-0.8]  strong[-2e+00]  growth[-4e+00]  in[-0.4]  its[-2e+00]  first[-0.6]  quarter[-0.05]  earnings[-2e+00]  report[-3e+00]  for[-0.06]  fiscal[-4e+00]  year[-0.1]  20[-0.003] 23[-9e-06] .[-0.07]  [-2e+00] \n",
      "[-0.007] \n",
      "[-0.001] Re[-0.7] venue[-0.3]  for[-0.2]  the[-0.2]  quarter[-0.3]  totaled[-1e+00]  $[-0.02] 26[-5e+00] .[-0.1] 2[-2e+00]  billion[-0.02] ,[-0.02]  up[-1e+00]  53[-6e+00] .[-2e+00] 12[-9e+00] %[-0.08]  over[-3e+00]  the[-0.1]  same[-0.2]  period[-0.4]  last[-0.5]  year[-0.005] .[-0.2]  This[-0.9]  is[-3e+00]  part[-9e+00]  of[-0.0004]  a[-0.7]  sustained[-4e+00]  trend[-0.9]  of[-0.07]  larger[-9e+00]  growth[-4e+00]  each[-4e+00] write an earnings report for Tesla for Q1 2023\n",
      "[-0.0029413027, -9.370307e-06, -4.5535016, -1.9651381, -5.5610814, -9.378884]\n",
      "\n",
      "[-0.006] 50[-0.03]  meters[-0.06]  =[-0.2]  50[-0.01]  meters[-0.3]  [-2e+00] \n",
      "[-0.001] 3[-0.2]  miles[-0.005]  =[-0.001]  48[-0.8] 28[-0.007]  meters[-0.7] Convert 50meters and 3 miles into the metric system\n",
      "[-0.02702391, -0.013302948, -0.15609032, -0.80360144, -0.007013221]\n",
      "\n",
      "[-0.006] 50[-0.03]  meters[-0.06]  =[-0.2]  50[-0.01] ,[-2e+00] 000[-0.0006]  mill[-0.2] imeters[-0.02] \n",
      "[-0.3] 3[-0.6]  miles[-0.006]  =[-0.002]  4[-0.09] ,[-0.04] 8[-0.02] 28[-0.03]  meters[-0.5] Convert 50meters and 3 miles into the metric system\n",
      "[-0.027295165, -0.014135709, -0.00058060983, -0.5797586, -0.09115588, -0.019815907, -0.029127529]\n",
      "\n",
      "[-0.006] 50[-0.03]  meters[-0.06]  =[-0.2]  50[-0.01]  meters[-0.4] \n",
      "[-0.2] 3[-0.4]  miles[-0.006]  =[-0.001]  4[-0.6] .[-0.1] 82[-1e+00]  kilometers[-0.3] Convert 50meters and 3 miles into the metric system\n",
      "[-0.026091153, -0.013658605, -0.38602984, -0.6358748, -1.09676]\n"
     ]
    }
   ],
   "source": [
    "for _,r in df.iterrows():\n",
    "    number_probs = []\n",
    "    for x, p in list(zip(r['tokens'], r['token_logprobs'])):\n",
    "        print(f'{x}[{p:.1}]', end=' ')\n",
    "        try:\n",
    "            float(x.strip())\n",
    "            number_probs.append(p)\n",
    "        except:\n",
    "            pass\n",
    "    print(r['x'])\n",
    "    print(number_probs)"
   ]
  },
  {
   "cell_type": "code",
   "execution_count": null,
   "id": "2ff61d4e-4a5d-4fdc-9bf9-b49d974af565",
   "metadata": {},
   "outputs": [],
   "source": []
  }
 ],
 "metadata": {
  "kernelspec": {
   "display_name": "Python 3 (ipykernel)",
   "language": "python",
   "name": "python3"
  },
  "language_info": {
   "codemirror_mode": {
    "name": "ipython",
    "version": 3
   },
   "file_extension": ".py",
   "mimetype": "text/x-python",
   "name": "python",
   "nbconvert_exporter": "python",
   "pygments_lexer": "ipython3",
   "version": "3.10.9"
  }
 },
 "nbformat": 4,
 "nbformat_minor": 5
}
